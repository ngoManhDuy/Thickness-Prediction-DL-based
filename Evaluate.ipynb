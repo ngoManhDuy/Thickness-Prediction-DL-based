{
  "cells": [
    {
      "cell_type": "code",
      "execution_count": null,
      "metadata": {
        "id": "z31nuMx2LobL"
      },
      "outputs": [],
      "source": [
        "import os, glob\n",
        "import numpy as np\n",
        "import pandas as pd\n",
        "import matplotlib.pyplot as plt\n",
        "from scipy.signal import butter, lfilter, freqz, firwin, gaussian\n",
        "import scipy\n",
        "import tensorflow as tf\n",
        "from tensorflow import keras\n",
        "from tensorflow.keras.callbacks import ModelCheckpoint, Callback, EarlyStopping, ReduceLROnPlateau\n",
        "from tensorflow.keras.layers import Input, Conv1D, MaxPooling1D, LSTM, Dense, Flatten, TimeDistributed, Reshape, Lambda\n",
        "from tensorflow.keras.models import Model\n",
        "from keras.optimizers import Adam\n",
        "import h5py"
      ]
    },
    {
      "cell_type": "code",
      "execution_count": null,
      "metadata": {
        "id": "O4Abd9VeMKG6",
        "colab": {
          "base_uri": "https://localhost:8080/"
        },
        "outputId": "00680409-a8f0-4559-c581-62b89156417d"
      },
      "outputs": [
        {
          "output_type": "stream",
          "name": "stdout",
          "text": [
            "Mounted at /content/drive\n"
          ]
        }
      ],
      "source": [
        "from google.colab import drive\n",
        "drive.mount('/content/drive')"
      ]
    },
    {
      "cell_type": "code",
      "execution_count": null,
      "metadata": {
        "id": "V5J-1IFzO7ek"
      },
      "outputs": [],
      "source": [
        "h5_file_name = 'steel_data.h5'\n",
        "destination_path = '/content/drive/MyDrive/' + h5_file_name\n",
        "\n",
        "with h5py.File(destination_path, 'r') as hf:\n",
        "    X_train = hf['X_train'][:]\n",
        "    X_test = hf['X_test'][:]\n",
        "    y_train = hf['y_train'][:]\n",
        "    y_test = hf['y_test'][:]"
      ]
    },
    {
      "cell_type": "code",
      "execution_count": null,
      "metadata": {
        "id": "vBPynUvbr09D"
      },
      "outputs": [],
      "source": [
        "def mean_std(data,axis = 0):\n",
        "    mean = np.mean(data , axis = axis, keepdims = True)\n",
        "    std = np.std(data, axis = axis, keepdims = True) + 1e-9\n",
        "    # normalized_data = (data - mean) / st\n",
        "    return mean, std\n",
        "\n",
        "def standard_normalize(data,axis = 0):\n",
        "    mean = np.mean(data , axis = axis, keepdims = True)\n",
        "    std = np.std(data, axis = axis, keepdims = True) + 1e-9\n",
        "    normalized_data = (data - mean) / std\n",
        "    return normalized_data\n",
        "\n",
        "checkpoint= ModelCheckpoint(\n",
        "    \"best_model_weights.h5\",\n",
        "    monitor=\"val_loss\",\n",
        "    save_best_only=True,\n",
        "    save_weights_only=True,\n",
        "    mode=\"min\",\n",
        "    verbose=1\n",
        ")\n",
        "\n",
        "def get_callbacks(patience):\n",
        "    reduce_lr = ReduceLROnPlateau(\n",
        "        monitor='val_loss',\n",
        "        factor=0.1,\n",
        "        patience=patience // 2,\n",
        "        min_lr=1e-12,\n",
        "        verbose=1\n",
        "    )\n",
        "    return [checkpoint, reduce_lr]"
      ]
    },
    {
      "cell_type": "code",
      "execution_count": null,
      "metadata": {
        "id": "PQH0F-yntKBp"
      },
      "outputs": [],
      "source": [
        "X_train_norm = standard_normalize(X_train)\n",
        "mean_train, std_train = mean_std(X_train)"
      ]
    },
    {
      "cell_type": "code",
      "source": [
        "X_test_norm = (X_test - mean_train)/std_train"
      ],
      "metadata": {
        "id": "mOPDHrmaG1jX"
      },
      "execution_count": null,
      "outputs": []
    },
    {
      "cell_type": "code",
      "source": [
        "X_test.shape"
      ],
      "metadata": {
        "colab": {
          "base_uri": "https://localhost:8080/"
        },
        "id": "qpyNVYs1kkNs",
        "outputId": "3bcef0cb-76d4-43e8-9b86-048cdb18e143"
      },
      "execution_count": null,
      "outputs": [
        {
          "output_type": "execute_result",
          "data": {
            "text/plain": [
              "(8235, 500, 1)"
            ]
          },
          "metadata": {},
          "execution_count": 7
        }
      ]
    },
    {
      "cell_type": "code",
      "source": [
        "from keras.models import load_model\n",
        "model_1 = load_model('thickness_prediction_model.h5')"
      ],
      "metadata": {
        "id": "MQVOoY6dhO0-"
      },
      "execution_count": null,
      "outputs": []
    },
    {
      "cell_type": "code",
      "source": [
        "y_test_result = model_1.predict(X_test_norm)"
      ],
      "metadata": {
        "colab": {
          "base_uri": "https://localhost:8080/"
        },
        "id": "aMSrB1U6ibbZ",
        "outputId": "8b43a30f-bf1c-4e35-9d3f-457ecb26977e"
      },
      "execution_count": null,
      "outputs": [
        {
          "output_type": "stream",
          "name": "stdout",
          "text": [
            "258/258 [==============================] - 67s 240ms/step\n"
          ]
        }
      ]
    },
    {
      "cell_type": "code",
      "source": [
        "y_test = np.squeeze(y_test, axis=-1)\n",
        "lof_test = y_test[:, 0:1]\n",
        "thickness_test = y_test[:, 1:2]\n",
        "\n",
        "lof_test_result = y_test_result[:, 0:1]\n",
        "thickness_test_result = y_test_result[:, 1:2]"
      ],
      "metadata": {
        "id": "FvL4b5iIiShw"
      },
      "execution_count": null,
      "outputs": []
    },
    {
      "cell_type": "code",
      "source": [
        "lof_test_result"
      ],
      "metadata": {
        "colab": {
          "base_uri": "https://localhost:8080/"
        },
        "id": "sSNaa4gHHPqw",
        "outputId": "0aa5d4df-9310-46b7-af29-517f7d88b0b0"
      },
      "execution_count": null,
      "outputs": [
        {
          "output_type": "execute_result",
          "data": {
            "text/plain": [
              "array([[0.6814291 ],\n",
              "       [1.9542582 ],\n",
              "       [0.55908895],\n",
              "       ...,\n",
              "       [0.44189557],\n",
              "       [0.8492051 ],\n",
              "       [2.0021343 ]], dtype=float32)"
            ]
          },
          "metadata": {},
          "execution_count": 11
        }
      ]
    },
    {
      "cell_type": "code",
      "source": [
        "plt.figure(figsize = (8,5))\n",
        "plt.scatter(lof_test, lof_test_result)\n",
        "plt.xlabel(\"actual value\")\n",
        "plt.ylabel(\"predicted value\")\n",
        "plt.title(\"thickness predict result\")\n",
        "plt.show()"
      ],
      "metadata": {
        "colab": {
          "base_uri": "https://localhost:8080/",
          "height": 487
        },
        "id": "6bS_qhxZixEj",
        "outputId": "f2d33a96-5c8b-4636-8ebe-0944c2199293"
      },
      "execution_count": null,
      "outputs": [
        {
          "output_type": "display_data",
          "data": {
            "text/plain": [
              "<Figure size 800x500 with 1 Axes>"
            ],
            "image/png": "[encoded data removed]"
          },
          "metadata": {}
        }
      ]
    },
    {
      "cell_type": "code",
      "source": [
        "plt.figure(figsize = (8,5))\n",
        "plt.scatter(thickness_test, thickness_test_result)\n",
        "plt.xlabel(\"actual value\")\n",
        "plt.ylabel(\"predicted value\")\n",
        "plt.title(\"thickness predict result\")\n",
        "plt.show()"
      ],
      "metadata": {
        "colab": {
          "base_uri": "https://localhost:8080/",
          "height": 487
        },
        "id": "qcAyvIBaGaZW",
        "outputId": "1901f601-6062-4974-93e2-26465ac49fd6"
      },
      "execution_count": null,
      "outputs": [
        {
          "output_type": "display_data",
          "data": {
            "text/plain": [
              "<Figure size 800x500 with 1 Axes>"
            ],
            "image/png": "[encoded data removed]"
          },
          "metadata": {}
        }
      ]
    },
    {
      "cell_type": "code",
      "source": [
        "df = np.concatenate((X_test_norm, y_test.reshape(-1, 2, 1)), axis=1)\n",
        "df.shape"
      ],
      "metadata": {
        "colab": {
          "base_uri": "https://localhost:8080/"
        },
        "id": "tQU5afGJJvh0",
        "outputId": "e7b0e471-af79-4c17-9834-da0f9db64a44"
      },
      "execution_count": null,
      "outputs": [
        {
          "output_type": "execute_result",
          "data": {
            "text/plain": [
              "(8235, 502, 1)"
            ]
          },
          "metadata": {},
          "execution_count": 14
        }
      ]
    },
    {
      "cell_type": "code",
      "source": [
        "condition_test_1 = np.isin(df[:, 501, 0], [1])\n",
        "condition_test_2 = np.isin(df[:, 501, 0], [2])\n",
        "condition_test_3 = np.isin(df[:, 501, 0], [3])\n",
        "condition_test_4 = np.isin(df[:, 501, 0], [4])\n",
        "condition_test_5 = np.isin(df[:, 501, 0], [5])\n",
        "condition_test_6 = np.isin(df[:, 501, 0], [6])\n",
        "condition_test_7 = np.isin(df[:, 501, 0], [7])\n",
        "condition_test_8 = np.isin(df[:, 501, 0], [8])\n",
        "condition_test_9 = np.isin(df[:, 501, 0], [9])\n",
        "condition_test_10 = np.isin(df[:, 501, 0], [10])\n",
        "\n",
        "y_test_1 = df[condition_test_1, 501]\n",
        "X_test_1 = df[condition_test_1, :501, :]\n",
        "\n",
        "y_test_2 = df[condition_test_2, 501]\n",
        "X_test_2 = df[condition_test_2, :501, :]\n",
        "\n",
        "y_test_3 = df[condition_test_3, 501]\n",
        "X_test_3 = df[condition_test_3, :501, :]\n",
        "\n",
        "y_test_4 = df[condition_test_4, 501]\n",
        "X_test_4 = df[condition_test_4, :501, :]\n",
        "\n",
        "y_test_5 = df[condition_test_5, 501]\n",
        "X_test_5 = df[condition_test_5, :501, :]\n",
        "\n",
        "y_test_6 = df[condition_test_6, 501]\n",
        "X_test_6 = df[condition_test_6, :501, :]\n",
        "\n",
        "y_test_7 = df[condition_test_7, 501]\n",
        "X_test_7 = df[condition_test_7, :501, :]\n",
        "\n",
        "y_test_8 = df[condition_test_8, 501]\n",
        "X_test_8 = df[condition_test_8, :501, :]\n",
        "\n",
        "y_test_9 = df[condition_test_9, 501]\n",
        "X_test_9 = df[condition_test_9, :501, :]\n",
        "\n",
        "y_test_10 = df[condition_test_10, 501]\n",
        "X_test_10 = df[condition_test_10, :501, :]"
      ],
      "metadata": {
        "id": "NwegujcCLS5y"
      },
      "execution_count": null,
      "outputs": []
    },
    {
      "cell_type": "code",
      "source": [
        "X_test.shape"
      ],
      "metadata": {
        "colab": {
          "base_uri": "https://localhost:8080/"
        },
        "id": "Few7wiQNSjY1",
        "outputId": "229ce30f-080d-4e72-ea8b-978562bbc0c6"
      },
      "execution_count": null,
      "outputs": [
        {
          "output_type": "execute_result",
          "data": {
            "text/plain": [
              "(8235, 500, 1)"
            ]
          },
          "metadata": {},
          "execution_count": 16
        }
      ]
    },
    {
      "cell_type": "code",
      "source": [
        "condition_test_lof_0_5 = np.isin(df[:, 500, 0], [0.5])\n",
        "condition_test_lof_1 = np.isin(df[:, 500, 0], [1])\n",
        "condition_test_lof_2 = np.isin(df[:, 500, 0], [2])\n",
        "\n",
        "y_test_lof_0_5 = df[condition_test_lof_0_5, 500]\n",
        "X_test_lof_0_5 = df[condition_test_lof_0_5, :500, :]\n",
        "\n",
        "y_test_lof_1 = df[condition_test_lof_1, 500]\n",
        "X_test_lof_1 = df[condition_test_lof_1, :500, :]\n",
        "\n",
        "y_test_lof_2 = df[condition_test_lof_2, 500]\n",
        "X_test_lof_2 = df[condition_test_lof_2, :500, :]"
      ],
      "metadata": {
        "id": "YupcL1mxL_Wj"
      },
      "execution_count": null,
      "outputs": []
    },
    {
      "cell_type": "code",
      "source": [
        "X_test_lof_2.shape"
      ],
      "metadata": {
        "colab": {
          "base_uri": "https://localhost:8080/"
        },
        "id": "_GPJnaQRSug2",
        "outputId": "e323b8a4-f6f1-4ffd-b9d6-f91a786e48dc"
      },
      "execution_count": null,
      "outputs": [
        {
          "output_type": "execute_result",
          "data": {
            "text/plain": [
              "(2816, 500, 1)"
            ]
          },
          "metadata": {},
          "execution_count": 18
        }
      ]
    },
    {
      "cell_type": "code",
      "source": [
        "# Loại bỏ cột cuối và thay đổi hình dạng của từng tập dữ liệu và lưu vào các biến riêng lẻ\n",
        "X_test_1 = X_test_1[:, :-1, :]\n",
        "X_test_2 = X_test_2[:, :-1, :]\n",
        "X_test_3 = X_test_3[:, :-1, :]\n",
        "X_test_4 = X_test_4[:, :-1, :]\n",
        "X_test_5 = X_test_5[:, :-1, :]\n",
        "X_test_6 = X_test_6[:, :-1, :]\n",
        "X_test_7 = X_test_7[:, :-1, :]\n",
        "X_test_8 = X_test_8[:, :-1, :]\n",
        "X_test_9 = X_test_9[:, :-1, :]\n",
        "X_test_10 = X_test_10[:, :-1, :]"
      ],
      "metadata": {
        "id": "pHagz0RqRgYF"
      },
      "execution_count": null,
      "outputs": []
    },
    {
      "cell_type": "code",
      "source": [
        "X_test_1.shape"
      ],
      "metadata": {
        "colab": {
          "base_uri": "https://localhost:8080/"
        },
        "id": "20_uA0tmSzZ1",
        "outputId": "7296975f-92b4-4f24-81b1-2def48f9b085"
      },
      "execution_count": null,
      "outputs": [
        {
          "output_type": "execute_result",
          "data": {
            "text/plain": [
              "(823, 500, 1)"
            ]
          },
          "metadata": {},
          "execution_count": 20
        }
      ]
    },
    {
      "cell_type": "code",
      "source": [
        "X_test_list = [X_test_1, X_test_2, X_test_3, X_test_4, X_test_5, X_test_6, X_test_7, X_test_8, X_test_9, X_test_10]\n",
        "\n",
        "y_test_result_list = []\n",
        "for X_test in X_test_list:\n",
        "    y_test_result = model_1.predict(X_test)\n",
        "    y_test_result_list.append(y_test_result)\n",
        "\n",
        "y_test_1_result = y_test_result_list[0]\n",
        "y_test_2_result = y_test_result_list[1]\n",
        "y_test_3_result = y_test_result_list[2]\n",
        "y_test_4_result = y_test_result_list[3]\n",
        "y_test_5_result = y_test_result_list[4]\n",
        "y_test_6_result = y_test_result_list[5]\n",
        "y_test_7_result = y_test_result_list[6]\n",
        "y_test_8_result = y_test_result_list[7]\n",
        "y_test_9_result = y_test_result_list[8]\n",
        "y_test_10_result = y_test_result_list[9]"
      ],
      "metadata": {
        "colab": {
          "base_uri": "https://localhost:8080/"
        },
        "id": "2-ZL70qJMach",
        "outputId": "3c9d27e6-c818-4e06-8a5f-383f599e92ad"
      },
      "execution_count": null,
      "outputs": [
        {
          "output_type": "stream",
          "name": "stdout",
          "text": [
            "26/26 [==============================] - 7s 286ms/step\n",
            "26/26 [==============================] - 6s 244ms/step\n",
            "27/27 [==============================] - 5s 199ms/step\n",
            "26/26 [==============================] - 6s 239ms/step\n",
            "26/26 [==============================] - 5s 208ms/step\n",
            "26/26 [==============================] - 5s 202ms/step\n",
            "26/26 [==============================] - 7s 278ms/step\n",
            "26/26 [==============================] - 7s 258ms/step\n",
            "26/26 [==============================] - 5s 202ms/step\n",
            "26/26 [==============================] - 5s 200ms/step\n"
          ]
        }
      ]
    },
    {
      "cell_type": "code",
      "source": [
        "y_test_1_result.shape"
      ],
      "metadata": {
        "colab": {
          "base_uri": "https://localhost:8080/"
        },
        "id": "e8akwzGnTFEv",
        "outputId": "d8a2f7cc-6417-4205-d0db-6bad4516c8c2"
      },
      "execution_count": null,
      "outputs": [
        {
          "output_type": "execute_result",
          "data": {
            "text/plain": [
              "(823, 2)"
            ]
          },
          "metadata": {},
          "execution_count": 22
        }
      ]
    },
    {
      "cell_type": "code",
      "source": [
        "thickness_test_result_1 = y_test_1_result[:, 1:2]\n",
        "thickness_test_result_2 = y_test_2_result[:, 1:2]\n",
        "thickness_test_result_3 = y_test_3_result[:, 1:2]\n",
        "thickness_test_result_4 = y_test_4_result[:, 1:2]\n",
        "thickness_test_result_5 = y_test_5_result[:, 1:2]\n",
        "thickness_test_result_6 = y_test_6_result[:, 1:2]\n",
        "thickness_test_result_7 = y_test_7_result[:, 1:2]\n",
        "thickness_test_result_8 = y_test_8_result[:, 1:2]\n",
        "thickness_test_result_9 = y_test_9_result[:, 1:2]\n",
        "thickness_test_result_10 = y_test_10_result[:, 1:2]"
      ],
      "metadata": {
        "id": "HWu5FUD8Tnt_"
      },
      "execution_count": null,
      "outputs": []
    },
    {
      "cell_type": "code",
      "source": [
        "import matplotlib.pyplot as plt\n",
        "\n",
        "# Danh sách các tập dữ liệu y_test_result tương ứng với từng tập X_test đã được dự đoán\n",
        "y_test_result_list = [thickness_test_result_1,thickness_test_result_2,thickness_test_result_3,thickness_test_result_4,thickness_test_result_5,thickness_test_result_6,thickness_test_result_7,thickness_test_result_8,thickness_test_result_9,thickness_test_result_10]\n",
        "\n",
        "\n",
        "data_to_plot = [result.flatten() for result in y_test_result_list]\n",
        "\n",
        "plt.figure(figsize=(8, 6))\n",
        "plt.boxplot(data_to_plot, labels=['1', '2', '3', '4','5', '6', '7', '8','9', '10'],showfliers=False)\n",
        "plt.xticks(range(1, 11), ['1', '2', '3', '4','5', '6', '7', '8','9', '10'])\n",
        "plt.yticks(range(1, 11))\n",
        "plt.xlabel('Thickness')\n",
        "plt.ylabel('Predicted Values')\n",
        "plt.title('Error Bar of Predicted Values for Different Thicknesses')\n",
        "plt.show()\n"
      ],
      "metadata": {
        "colab": {
          "base_uri": "https://localhost:8080/",
          "height": 564
        },
        "id": "_29MuQkkUClf",
        "outputId": "eabedd4a-03e8-4c53-bdd0-b05387451199"
      },
      "execution_count": null,
      "outputs": [
        {
          "output_type": "display_data",
          "data": {
            "text/plain": [
              "<Figure size 800x600 with 1 Axes>"
            ],
            "image/png": "[encoded data removed]"
          },
          "metadata": {}
        }
      ]
    },
    {
      "cell_type": "code",
      "source": [
        "X_test_list = [X_test_lof_0_5, X_test_lof_1, X_test_lof_2]\n",
        "\n",
        "y_test_result_list = []\n",
        "for X_test in X_test_list:\n",
        "    y_test_result = model_1.predict(X_test)\n",
        "    y_test_result_list.append(y_test_result)\n",
        "\n",
        "y_test_0_5_result = y_test_result_list[0]\n",
        "y_test_1_result = y_test_result_list[1]\n",
        "y_test_2_result = y_test_result_list[2]"
      ],
      "metadata": {
        "colab": {
          "base_uri": "https://localhost:8080/"
        },
        "id": "2Jy298FQUlXQ",
        "outputId": "cb985ed8-a6ca-4292-eefc-9514a3f743a3"
      },
      "execution_count": null,
      "outputs": [
        {
          "output_type": "stream",
          "name": "stdout",
          "text": [
            "83/83 [==============================] - 20s 244ms/step\n",
            "87/87 [==============================] - 20s 227ms/step\n",
            "88/88 [==============================] - 22s 253ms/step\n"
          ]
        }
      ]
    },
    {
      "cell_type": "code",
      "source": [
        "lof_test_0_5 = y_test_0_5_result[:, 0:1]\n",
        "lof_test_1 = y_test_1_result[:, 0:1]\n",
        "lof_test_2 = y_test_2_result[:, 0:1]"
      ],
      "metadata": {
        "id": "3SRNdMGLU3AR"
      },
      "execution_count": null,
      "outputs": []
    },
    {
      "cell_type": "code",
      "source": [
        "import matplotlib.pyplot as plt\n",
        "\n",
        "y_test_result_list = [lof_test_0_5, lof_test_1, lof_test_2]\n",
        "\n",
        "data_to_plot = [result.flatten() for result in y_test_result_list]\n",
        "\n",
        "plt.figure(figsize=(8, 6))\n",
        "plt.boxplot(data_to_plot, labels=['0.5', '1', '2'], showfliers=False)\n",
        "plt.xticks(range(1, 4), ['0.5', '1', '2'])\n",
        "plt.yticks([0.5, 1, 2])\n",
        "plt.xlabel('Lift Off')\n",
        "plt.ylabel('Predicted Values')\n",
        "plt.title('Error Bar of Predicted Values for Different Lift Off')\n",
        "plt.show()\n"
      ],
      "metadata": {
        "colab": {
          "base_uri": "https://localhost:8080/",
          "height": 564
        },
        "id": "xHnJkGkHVEqI",
        "outputId": "3bda3ed5-f6e5-4bcc-b5f2-76e012810b1a"
      },
      "execution_count": null,
      "outputs": [
        {
          "output_type": "display_data",
          "data": {
            "text/plain": [
              "<Figure size 800x600 with 1 Axes>"
            ],
            "image/png": "[encoded data removed]"
          },
          "metadata": {}
        }
      ]
    }
  ],
  "metadata": {
    "accelerator": "GPU",
    "colab": {
      "provenance": [],
      "gpuType": "T4"
    },
    "kernelspec": {
      "display_name": "Python 3",
      "name": "python3"
    },
    "language_info": {
      "name": "python"
    }
  },
  "nbformat": 4,
  "nbformat_minor": 0
}